{
  "nbformat": 4,
  "nbformat_minor": 0,
  "metadata": {
    "colab": {
      "name": "MNIST-CNN.ipynb",
      "provenance": [],
      "collapsed_sections": []
    },
    "kernelspec": {
      "name": "python3",
      "display_name": "Python 3"
    },
    "language_info": {
      "name": "python"
    },
    "accelerator": "GPU"
  },
  "cells": [
    {
      "cell_type": "markdown",
      "metadata": {
        "id": "ZbxA7D_lyw-4"
      },
      "source": [
        "# Sử dụng mạng Neural Network"
      ]
    },
    {
      "cell_type": "code",
      "metadata": {
        "id": "Vmb5E3UzyxoP"
      },
      "source": [
        "#thêm các thư viện cần thiết\n",
        "import tensorflow as tf\n",
        "from tensorflow import keras\n",
        "from keras.datasets import mnist\n",
        "from keras.models import Sequential\n",
        "from keras.layers import Dense, Dropout, Flatten\n",
        "from tensorflow.keras.optimizers import SGD\n",
        "from keras import backend as K\n",
        "from keras.utils import np_utils\n",
        "import matplotlib.pyplot as plt\n",
        "import tensorflow as tf\n",
        "import numpy as np\n",
        "from tensorflow.keras.optimizers import Adam\n",
        "\n",
        "import seaborn as sns\n",
        "from sklearn.metrics import confusion_matrix\n",
        "from sklearn.metrics import precision_recall_fscore_support"
      ],
      "execution_count": 1,
      "outputs": []
    },
    {
      "cell_type": "code",
      "metadata": {
        "id": "-8kREh69yyDR"
      },
      "source": [
        "batch_size = 128  # Kích thước batch\n",
        "num_classes = 10  # 10 lớp\n",
        "epochs = 10    # Số epoches"
      ],
      "execution_count": 2,
      "outputs": []
    },
    {
      "cell_type": "code",
      "metadata": {
        "id": "jeZ_-_Dzyyct",
        "colab": {
          "base_uri": "https://localhost:8080/"
        },
        "outputId": "d5dc042c-e9a2-479b-8f8d-dbbf499a0c7e"
      },
      "source": [
        "# kích thước ảnh\n",
        "img_rows, img_cols = 28, 28\n",
        "\n",
        "# split data\n",
        "(X_train, y_train), (X_test, y_test) = mnist.load_data()\n",
        "X_val, y_val = X_train[50000:60000,:], y_train[50000:60000] # tập validation\n",
        "X_train, y_train = X_train[:50000,:], y_train[:50000]"
      ],
      "execution_count": 3,
      "outputs": [
        {
          "output_type": "stream",
          "name": "stdout",
          "text": [
            "Downloading data from https://storage.googleapis.com/tensorflow/tf-keras-datasets/mnist.npz\n",
            "11493376/11490434 [==============================] - 0s 0us/step\n",
            "11501568/11490434 [==============================] - 0s 0us/step\n"
          ]
        }
      ]
    },
    {
      "cell_type": "code",
      "metadata": {
        "colab": {
          "base_uri": "https://localhost:8080/"
        },
        "id": "i1rEZcS8yy5A",
        "outputId": "c03da4e7-cc1a-4799-f7cd-9363a6179adf"
      },
      "source": [
        "# Kích thước đầu vào (ảnh đen trắng)\n",
        "X_train[0].shape"
      ],
      "execution_count": 4,
      "outputs": [
        {
          "output_type": "execute_result",
          "data": {
            "text/plain": [
              "(28, 28)"
            ]
          },
          "metadata": {},
          "execution_count": 4
        }
      ]
    },
    {
      "cell_type": "code",
      "source": [
        "# Hiển thị dữ liệu train\n",
        "plt.figure(figsize=(8, 8))\n",
        "for i in range(16):\n",
        "    plt.subplot(4,4,i+1)\n",
        "    plt.xticks([]), plt.yticks([]), plt.grid(False)\n",
        "    plt.imshow(X_train[i], cmap='gray')\n",
        "    plt.xlabel(f'{y_train[i]}', fontsize = 12)\n",
        "plt.show()"
      ],
      "metadata": {
        "colab": {
          "base_uri": "https://localhost:8080/",
          "height": 483
        },
        "id": "5LPhqO0uStwd",
        "outputId": "c55ada2a-14fa-4922-e9f2-442aaadf45be"
      },
      "execution_count": 5,
      "outputs": [
        {
          "output_type": "display_data",
          "data": {
            "text/plain": [
              "<Figure size 576x576 with 16 Axes>"
            ],
            "image/png": "[encoded data removed]"
          },
          "metadata": {}
        }
      ]
    },
    {
      "cell_type": "code",
      "metadata": {
        "colab": {
          "base_uri": "https://localhost:8080/"
        },
        "id": "CihkV696yzXo",
        "outputId": "4eb60c5a-d4cc-45e2-95fd-41addfe0ac1a"
      },
      "source": [
        "# Flatten. Datapoint is row\n",
        "X_train = X_train.reshape(-1, 784)\n",
        "X_train = X_train.astype('float32')\n",
        "X_test = X_test.reshape(-1, 784)\n",
        "X_test = X_test.astype('float32')\n",
        "X_val = X_val.reshape(-1, 784)\n",
        "X_val = X_val.astype('float32')\n",
        "# normalize (0-1)\n",
        "X_train /= 255\n",
        "X_val /= 255\n",
        "X_test /= 255\n",
        "print('Train samples: \\t', X_train.shape[0])\n",
        "print('Test samples: \\t', X_test.shape[0])"
      ],
      "execution_count": 6,
      "outputs": [
        {
          "output_type": "stream",
          "name": "stdout",
          "text": [
            "Train samples: \t 50000\n",
            "Test samples: \t 10000\n"
          ]
        }
      ]
    },
    {
      "cell_type": "code",
      "metadata": {
        "colab": {
          "base_uri": "https://localhost:8080/"
        },
        "id": "TNJB0YcQyz02",
        "outputId": "363380c3-7504-48bc-f17e-5d3887b833f4"
      },
      "source": [
        "# convert to one-hot encoding (binary class matrices)\n",
        "print(y_train[0])\n",
        "y_train = np_utils.to_categorical(y_train, num_classes)\n",
        "y_test = np_utils.to_categorical(y_test, num_classes)\n",
        "y_val = np_utils.to_categorical(y_val, num_classes)\n",
        "print(y_train[0])"
      ],
      "execution_count": null,
      "outputs": [
        {
          "output_type": "stream",
          "name": "stdout",
          "text": [
            "5\n",
            "[0. 0. 0. 0. 0. 1. 0. 0. 0. 0.]\n"
          ]
        }
      ]
    },
    {
      "cell_type": "code",
      "metadata": {
        "colab": {
          "base_uri": "https://localhost:8080/"
        },
        "id": "s22IROk000Vx",
        "outputId": "c6ddf702-9c2f-43d4-9e3c-f8935f5cf68d"
      },
      "source": [
        "model = Sequential()\n",
        "\n",
        "# input shape\n",
        "model.add(Dense(128, activation='relu', input_shape=(784,)))\n",
        "model.add(Dense(32, activation='relu'))\n",
        "model.add(Dense(num_classes, activation='softmax'))\n",
        "\n",
        "model.summary()"
      ],
      "execution_count": null,
      "outputs": [
        {
          "output_type": "stream",
          "name": "stdout",
          "text": [
            "Model: \"sequential\"\n",
            "_________________________________________________________________\n",
            " Layer (type)                Output Shape              Param #   \n",
            "=================================================================\n",
            " dense (Dense)               (None, 128)               100480    \n",
            "                                                                 \n",
            " dense_1 (Dense)             (None, 32)                4128      \n",
            "                                                                 \n",
            " dense_2 (Dense)             (None, 10)                330       \n",
            "                                                                 \n",
            "=================================================================\n",
            "Total params: 104,938\n",
            "Trainable params: 104,938\n",
            "Non-trainable params: 0\n",
            "_________________________________________________________________\n"
          ]
        }
      ]
    },
    {
      "cell_type": "code",
      "metadata": {
        "id": "bn7UVKii05Kq"
      },
      "source": [
        "model.compile(loss='categorical_crossentropy',\n",
        "              optimizer=Adam(learning_rate=0.001),\n",
        "              metrics=['accuracy'])"
      ],
      "execution_count": null,
      "outputs": []
    },
    {
      "cell_type": "code",
      "metadata": {
        "colab": {
          "base_uri": "https://localhost:8080/"
        },
        "id": "voPP8qFu0-lf",
        "outputId": "d33bf48c-9aa4-4ffb-f175-a4a1c6e491dc"
      },
      "source": [
        "H = model.fit(X_train, y_train,\n",
        "          batch_size=batch_size,\n",
        "          epochs=epochs,\n",
        "          verbose=1, # log or not\n",
        "          validation_data=(X_val, y_val))"
      ],
      "execution_count": null,
      "outputs": [
        {
          "output_type": "stream",
          "name": "stdout",
          "text": [
            "Epoch 1/10\n",
            "391/391 [==============================] - 8s 10ms/step - loss: 0.3867 - accuracy: 0.8924 - val_loss: 0.1754 - val_accuracy: 0.9545\n",
            "Epoch 2/10\n",
            "391/391 [==============================] - 3s 9ms/step - loss: 0.1595 - accuracy: 0.9537 - val_loss: 0.1332 - val_accuracy: 0.9609\n",
            "Epoch 3/10\n",
            "391/391 [==============================] - 3s 9ms/step - loss: 0.1160 - accuracy: 0.9659 - val_loss: 0.1056 - val_accuracy: 0.9684\n",
            "Epoch 4/10\n",
            "391/391 [==============================] - 3s 8ms/step - loss: 0.0893 - accuracy: 0.9733 - val_loss: 0.0964 - val_accuracy: 0.9709\n",
            "Epoch 5/10\n",
            "391/391 [==============================] - 3s 9ms/step - loss: 0.0706 - accuracy: 0.9793 - val_loss: 0.0935 - val_accuracy: 0.9721\n",
            "Epoch 6/10\n",
            "391/391 [==============================] - 3s 8ms/step - loss: 0.0578 - accuracy: 0.9829 - val_loss: 0.0854 - val_accuracy: 0.9733\n",
            "Epoch 7/10\n",
            "391/391 [==============================] - 3s 9ms/step - loss: 0.0476 - accuracy: 0.9853 - val_loss: 0.0890 - val_accuracy: 0.9737\n",
            "Epoch 8/10\n",
            "391/391 [==============================] - 2s 5ms/step - loss: 0.0395 - accuracy: 0.9881 - val_loss: 0.0846 - val_accuracy: 0.9761\n",
            "Epoch 9/10\n",
            "391/391 [==============================] - 2s 5ms/step - loss: 0.0312 - accuracy: 0.9907 - val_loss: 0.0853 - val_accuracy: 0.9758\n",
            "Epoch 10/10\n",
            "391/391 [==============================] - 2s 5ms/step - loss: 0.0255 - accuracy: 0.9929 - val_loss: 0.0923 - val_accuracy: 0.9755\n"
          ]
        }
      ]
    },
    {
      "cell_type": "code",
      "metadata": {
        "colab": {
          "base_uri": "https://localhost:8080/"
        },
        "id": "dvrFDJ8Y2VPr",
        "outputId": "b5d3f048-4731-43cd-f0a0-bf02fb4121c1"
      },
      "source": [
        "score = model.evaluate(X_test, y_test, verbose=0)\n",
        "print('Test loss: \\t', score[0])\n",
        "print('Test accuracy: \\t', score[1])"
      ],
      "execution_count": null,
      "outputs": [
        {
          "output_type": "stream",
          "name": "stdout",
          "text": [
            "Test loss: \t 0.07796211540699005\n",
            "Test accuracy: \t 0.9771999716758728\n"
          ]
        }
      ]
    },
    {
      "cell_type": "code",
      "metadata": {
        "colab": {
          "base_uri": "https://localhost:8080/",
          "height": 312
        },
        "id": "q-mwnYbM2mpX",
        "outputId": "e5d536b4-c552-40a6-a1fd-9b4e64acffe0"
      },
      "source": [
        "# 8. Vẽ đồ thị loss, accuracy của traning set và validation set\n",
        "fig = plt.figure()\n",
        "numOfEpoch = 10\n",
        "plt.plot(np.arange(0, numOfEpoch), H.history['loss'], label='training loss')\n",
        "plt.plot(np.arange(0, numOfEpoch), H.history['val_loss'], label='validation loss')\n",
        "plt.plot(np.arange(0, numOfEpoch), H.history['accuracy'], label='accuracy')\n",
        "plt.plot(np.arange(0, numOfEpoch), H.history['val_accuracy'], label='validation accuracy')\n",
        "plt.title('Accuracy and Loss')\n",
        "plt.xlabel('Epoch')\n",
        "plt.ylabel('Loss|Accuracy')\n",
        "plt.legend()"
      ],
      "execution_count": null,
      "outputs": [
        {
          "output_type": "execute_result",
          "data": {
            "text/plain": [
              "<matplotlib.legend.Legend at 0x7f5e6a37e890>"
            ]
          },
          "metadata": {},
          "execution_count": 12
        },
        {
          "output_type": "display_data",
          "data": {
            "image/png": "[encoded data removed]",
            "text/plain": [
              "<Figure size 432x288 with 1 Axes>"
            ]
          },
          "metadata": {
            "needs_background": "light"
          }
        }
      ]
    },
    {
      "cell_type": "markdown",
      "source": [
        "## Confus matrix\n"
      ],
      "metadata": {
        "id": "ExZcHkew8FTv"
      }
    },
    {
      "cell_type": "code",
      "source": [
        "y_pred = model.predict(X_test)\n",
        "y_pred = np.argmax(y_pred ,axis = 1)\n",
        "y_true=np.argmax(y_test,axis = 1)\n",
        "a = precision_recall_fscore_support(y_true, y_pred, average='macro')\n",
        "cf = confusion_matrix(y_true,y_pred)\n",
        "\n",
        "print(f'+ precision = {a[0]:.3f}')\n",
        "print(f'+ recall = {a[1]:.3f}')\n",
        "print(f'+ f1_score = {a[2]:.3f}')\n",
        "plt.figure(figsize = (8,6))\n",
        "ax = sns.heatmap(data=cf ,fmt=\"d\",annot = True)\n",
        "plt.show()"
      ],
      "metadata": {
        "colab": {
          "base_uri": "https://localhost:8080/",
          "height": 426
        },
        "id": "oN0s9Bz_8PZ2",
        "outputId": "1198fad3-550c-4b2b-9384-0538ebf31988"
      },
      "execution_count": null,
      "outputs": [
        {
          "output_type": "stream",
          "name": "stdout",
          "text": [
            "+ precision = 0.977\n",
            "+ recall = 0.977\n",
            "+ f1_score = 0.977\n"
          ]
        },
        {
          "output_type": "display_data",
          "data": {
            "image/png": "[encoded data removed]",
            "text/plain": [
              "<Figure size 576x432 with 2 Axes>"
            ]
          },
          "metadata": {
            "needs_background": "light"
          }
        }
      ]
    },
    {
      "cell_type": "markdown",
      "metadata": {
        "id": "9dV8unWs3yL0"
      },
      "source": [
        "## Tinh chỉnh model như thay đổi learning rate, activation function "
      ]
    },
    {
      "cell_type": "code",
      "metadata": {
        "colab": {
          "base_uri": "https://localhost:8080/",
          "height": 485
        },
        "id": "sixUSJ3-3s9z",
        "outputId": "aaa4553e-bebb-47de-cfc4-58a2f02df430"
      },
      "source": [
        "# Thử với các learning rate khác nhau (giữ nguyên các layer, node và activation function)\n",
        "learning_rate = [0.1, 0.005, 0.01, 0.00001, 0.2]\n",
        "colors = ['r', 'g', 'b', 'y', 'c']\n",
        "for i, lr in enumerate(learning_rate):\n",
        "  model = Sequential()\n",
        "  \n",
        "  model.add(Dense(128, activation='relu', input_shape=(784,)))\n",
        "  model.add(Dense(32, activation='relu'))\n",
        "  model.add(Dense(num_classes, activation='softmax'))\n",
        "\n",
        "  model.compile(loss='categorical_crossentropy',\n",
        "                optimizer=Adam(learning_rate=lr),\n",
        "                metrics=['accuracy'])\n",
        "  print('\\nLearning rate = %f' %(lr))\n",
        "  H = model.fit(X_train, y_train,\n",
        "                batch_size=batch_size,\n",
        "                epochs = epochs,\n",
        "                verbose=0,\n",
        "                validation_data=(X_test, y_test))\n",
        "  plt.plot(H.history['loss'], colors[i])\n",
        "  \n",
        "plt.title('Loss with Different Learning rates')\n",
        "plt.legend(learning_rate)\n",
        "plt.tight_layout()\n",
        "plt.xlabel('Number of Epochs')\n",
        "plt.ylabel('Loss')\n",
        "plt.show()"
      ],
      "execution_count": null,
      "outputs": [
        {
          "output_type": "stream",
          "name": "stdout",
          "text": [
            "\n",
            "Learning rate = 0.100000\n",
            "\n",
            "Learning rate = 0.005000\n",
            "\n",
            "Learning rate = 0.010000\n",
            "\n",
            "Learning rate = 0.000010\n",
            "\n",
            "Learning rate = 0.200000\n"
          ]
        },
        {
          "output_type": "display_data",
          "data": {
            "image/png": "[encoded data removed]",
            "text/plain": [
              "<Figure size 432x288 with 1 Axes>"
            ]
          },
          "metadata": {
            "needs_background": "light"
          }
        }
      ]
    },
    {
      "cell_type": "code",
      "metadata": {
        "colab": {
          "base_uri": "https://localhost:8080/",
          "height": 485
        },
        "id": "C9fU9Vhr5EPz",
        "outputId": "32a1bdf2-2bb5-43d5-b2b5-7ab306ed4fcb"
      },
      "source": [
        "# Đổi activation function thành sigmoid, tanh, softmax, linear\n",
        "activation_function = ['sigmoid', 'tanh', 'relu', 'softmax', 'linear']\n",
        "for i, af in enumerate(activation_function):\n",
        "  model = Sequential()\n",
        "  \n",
        "  model.add(Dense(128, activation=af, input_shape=(784,)))\n",
        "  model.add(Dense(32, activation=af))\n",
        "  model.add(Dense(num_classes, activation='softmax'))\n",
        "\n",
        "  model.compile(loss='categorical_crossentropy',\n",
        "                optimizer=Adam(learning_rate=0.001),\n",
        "                metrics=['accuracy'])\n",
        "  print('\\nActivation function = %s' %(af))\n",
        "  H = model.fit(X_train, y_train,\n",
        "                batch_size=batch_size,\n",
        "                epochs = epochs,\n",
        "                verbose=0,\n",
        "                validation_data=(X_test, y_test))\n",
        "  plt.plot(H.history['loss'], colors[i])\n",
        "  \n",
        "plt.title('Loss with Different Activation function')\n",
        "plt.legend(activation_function)\n",
        "plt.tight_layout()\n",
        "plt.xlabel('Number of Epochs')\n",
        "plt.ylabel('Loss')\n",
        "plt.show()"
      ],
      "execution_count": null,
      "outputs": [
        {
          "output_type": "stream",
          "name": "stdout",
          "text": [
            "\n",
            "Activation function = sigmoid\n",
            "\n",
            "Activation function = tanh\n",
            "\n",
            "Activation function = relu\n",
            "\n",
            "Activation function = softmax\n",
            "\n",
            "Activation function = linear\n"
          ]
        },
        {
          "output_type": "display_data",
          "data": {
            "image/png": "[encoded data removed]",
            "text/plain": [
              "<Figure size 432x288 with 1 Axes>"
            ]
          },
          "metadata": {
            "needs_background": "light"
          }
        }
      ]
    },
    {
      "cell_type": "markdown",
      "metadata": {
        "id": "pUqh_SoqyJIP"
      },
      "source": [
        "# Sử dụng mạng Convolutional Neural Network"
      ]
    },
    {
      "cell_type": "code",
      "metadata": {
        "id": "RI-1KHNZkVXU"
      },
      "source": [
        "# 1. Thêm các thư viện cần thiết\n",
        "import numpy as np\n",
        "import matplotlib.pyplot as plt\n",
        "from keras.models import Sequential\n",
        "from keras.layers import Dense, Dropout, Activation, Flatten\n",
        "from keras.layers import Conv2D, MaxPooling2D\n",
        "from keras.utils import np_utils\n",
        "from keras.datasets import mnist\n",
        "from tensorflow.keras.optimizers import Adam"
      ],
      "execution_count": null,
      "outputs": []
    },
    {
      "cell_type": "markdown",
      "metadata": {
        "id": "BAfQf04ymlm3"
      },
      "source": [
        "Load dữ liệu từ MNIST dataset, bao gồm 60.000 training set và 10.000 test set. Sau đó chia bộ traning set thành 2: 50.000 cho training set và 10.000 dữ liệu cho validation set."
      ]
    },
    {
      "cell_type": "code",
      "metadata": {
        "colab": {
          "base_uri": "https://localhost:8080/"
        },
        "id": "tx-qES9umfKr",
        "outputId": "18f99375-af99-41f4-ee76-0061326ca792"
      },
      "source": [
        "# 2. Load dữ liệu MNIST\n",
        "(X_train, y_train), (X_test, y_test) = mnist.load_data()\n",
        "X_val, y_val = X_train[50000:60000,:], y_train[50000:60000] # tập validation\n",
        "X_train, y_train = X_train[:50000,:], y_train[:50000]\n",
        "print(X_train.shape)\n",
        "print(X_val.shape)"
      ],
      "execution_count": null,
      "outputs": [
        {
          "output_type": "stream",
          "name": "stdout",
          "text": [
            "(50000, 28, 28)\n",
            "(10000, 28, 28)\n"
          ]
        }
      ]
    },
    {
      "cell_type": "markdown",
      "metadata": {
        "id": "Zjsk7LsrmzNL"
      },
      "source": [
        "Dữ liệu input cho mô hình convolutional neural network là 1 tensor 4 chiều (N, W, H, D), trong bài này là ảnh xám nên W = H = 28, D = 1, N là số lượng ảnh cho mỗi lần training. Do dữ liệu ảnh ở trên có kích thước là (N, 28, 28) tức là (N, W, H) nên rần reshape lại thành kích thước N * 28 * 28 * 1 để giống kích thước mà keras yêu cầu."
      ]
    },
    {
      "cell_type": "code",
      "metadata": {
        "colab": {
          "base_uri": "https://localhost:8080/"
        },
        "id": "pRND4XrOmrbW",
        "outputId": "0834ea8c-dbdf-4410-c65c-d7b57ec8c3b7"
      },
      "source": [
        "# 3. Reshape lại dữ liệu cho đúng kích thước mà keras yêu cầu\n",
        "X_train = X_train.reshape(X_train.shape[0], 28, 28, 1)\n",
        "X_val = X_val.reshape(X_val.shape[0], 28, 28, 1)\n",
        "X_test = X_test.reshape(X_test.shape[0], 28, 28, 1)\n",
        "\n",
        "X_train = X_train/255.\n",
        "X_test = X_test/255.\n",
        "X_val = X_val/255.\n",
        "print(X_train.shape)"
      ],
      "execution_count": null,
      "outputs": [
        {
          "output_type": "stream",
          "name": "stdout",
          "text": [
            "(50000, 28, 28, 1)\n"
          ]
        }
      ]
    },
    {
      "cell_type": "code",
      "metadata": {
        "colab": {
          "base_uri": "https://localhost:8080/"
        },
        "id": "NYxPjd2Gm5wh",
        "outputId": "982da5dc-9474-4a8a-f26a-2af205a5556a"
      },
      "source": [
        "# 4. One hot encoding label (Y)\n",
        "Y_train = np_utils.to_categorical(y_train, 10)\n",
        "Y_val = np_utils.to_categorical(y_val, 10)\n",
        "Y_test = np_utils.to_categorical(y_test, 10)\n",
        "print('Dữ liệu y ban đầu ', y_train[0])\n",
        "print('Dữ liệu y sau one-hot encoding ',Y_train[0])"
      ],
      "execution_count": null,
      "outputs": [
        {
          "output_type": "stream",
          "name": "stdout",
          "text": [
            "Dữ liệu y ban đầu  5\n",
            "Dữ liệu y sau one-hot encoding  [0. 0. 0. 0. 0. 1. 0. 0. 0. 0.]\n"
          ]
        }
      ]
    },
    {
      "cell_type": "markdown",
      "metadata": {
        "id": "fsT2Iu9Uzoo-"
      },
      "source": [
        "Bước này định nghĩa model:\n",
        "1. Model = Sequential() để nói cho keras là ta sẽ xếp các layer lên nhau để tạo model. Ví dụ input -> CONV -> POOL -> CONV -> POOL -> FLATTEN -> FC -> OUTPUT\n",
        "2.  Ở layer đầu tiên cần chỉ rõ input_shape của ảnh, input_shape = (W, H, D), ta dùng ảnh xám kích thước (28,28) nên input_shape = (28, 28, 1)\n",
        "3. Khi thêm Convolutional Layer ta cần chỉ rõ các tham số: K (số lượng layer), kernel size (W, H), hàm activation sử dụng. cấu trúc: model.add(Conv2D(K, (W, H), activation='tên_hàm_activation'))\n",
        "4. Khi thêm Maxpooling Layer cần chỉ rõ size của kernel, model.add(MaxPooling2D(pool_size=(W, H)))\n",
        "5. Bước Flatten chuyển từ tensor sang vector chỉ cần thêm flatten layer.\n",
        "6. Để thêm Fully Connected Layer (FC) cần chỉ rõ số lượng node trong layer và hàm activation sử dụng trong layer, cấu trúc: model.add(Dense(số_lượng_node activation='tên_hàm activation'))\n"
      ]
    },
    {
      "cell_type": "code",
      "metadata": {
        "colab": {
          "base_uri": "https://localhost:8080/"
        },
        "id": "pOjEgLlwm_Vx",
        "outputId": "ff5a3ffb-34ee-4dac-9e3c-becc171430bd"
      },
      "source": [
        "# BatchNormalization()\n",
        "# Init Weight ()\n",
        "\n",
        "# 5. Định nghĩa model\n",
        "model = Sequential()\n",
        " \n",
        "# Thêm Convolutional layer với 32 kernel, kích thước kernel 3*3\n",
        "# dùng hàm sigmoid làm activation và chỉ rõ input_shape cho layer đầu tiên\n",
        "model.add(Conv2D(32, (3, 3), padding='same', activation='relu', input_shape=(28,28,1)))\n",
        "\n",
        "# Thêm Convolutional layer\n",
        "model.add(Conv2D(32, (3, 3),padding='same', activation='relu'))\n",
        "\n",
        "# Thêm Max pooling layer\n",
        "model.add(MaxPooling2D())\n",
        "\n",
        "# Flatten layer chuyển từ tensor sang vector\n",
        "model.add(Flatten())\n",
        "\n",
        "# Thêm Fully Connected layer với 128 nodes và dùng hàm sigmoid\n",
        "model.add(Dense(128, activation='relu'))\n",
        "\n",
        "# Output layer với 10 node và dùng softmax function để chuyển sang xác xuất.\n",
        "model.add(Dense(10, activation='softmax'))\n",
        "\n",
        "model.summary()"
      ],
      "execution_count": null,
      "outputs": [
        {
          "output_type": "stream",
          "name": "stdout",
          "text": [
            "Model: \"sequential_1\"\n",
            "_________________________________________________________________\n",
            " Layer (type)                Output Shape              Param #   \n",
            "=================================================================\n",
            " conv2d (Conv2D)             (None, 28, 28, 32)        320       \n",
            "                                                                 \n",
            " conv2d_1 (Conv2D)           (None, 28, 28, 32)        9248      \n",
            "                                                                 \n",
            " max_pooling2d (MaxPooling2D  (None, 14, 14, 32)       0         \n",
            " )                                                               \n",
            "                                                                 \n",
            " flatten (Flatten)           (None, 6272)              0         \n",
            "                                                                 \n",
            " dense_3 (Dense)             (None, 128)               802944    \n",
            "                                                                 \n",
            " dense_4 (Dense)             (None, 10)                1290      \n",
            "                                                                 \n",
            "=================================================================\n",
            "Total params: 813,802\n",
            "Trainable params: 813,802\n",
            "Non-trainable params: 0\n",
            "_________________________________________________________________\n"
          ]
        }
      ]
    },
    {
      "cell_type": "code",
      "metadata": {
        "id": "jg8fCuP6zsAL"
      },
      "source": [
        "# 6. Compile model, chỉ rõ hàm loss_function nào được sử dụng, phương thức \n",
        "# đùng để tối ưu hàm loss function.\n",
        "model.compile(loss='categorical_crossentropy',\n",
        "              optimizer=Adam(learning_rate=0.001),\n",
        "              metrics=['accuracy'])"
      ],
      "execution_count": null,
      "outputs": []
    },
    {
      "cell_type": "code",
      "metadata": {
        "id": "6b7altdjzuNr",
        "colab": {
          "base_uri": "https://localhost:8080/"
        },
        "outputId": "d5d9973a-b8d2-40d4-dcf6-e8b2fd4b871a"
      },
      "source": [
        "# 7. Thực hiện train model với data\n",
        "H = model.fit(X_train, Y_train, validation_data=(X_val, Y_val),\n",
        "          batch_size=batch_size, epochs=epochs, verbose=1)"
      ],
      "execution_count": null,
      "outputs": [
        {
          "output_type": "stream",
          "name": "stdout",
          "text": [
            "Epoch 1/10\n",
            "391/391 [==============================] - 13s 14ms/step - loss: 0.2182 - accuracy: 0.9354 - val_loss: 0.0724 - val_accuracy: 0.9795\n",
            "Epoch 2/10\n",
            "391/391 [==============================] - 5s 13ms/step - loss: 0.0545 - accuracy: 0.9830 - val_loss: 0.0544 - val_accuracy: 0.9845\n",
            "Epoch 3/10\n",
            "391/391 [==============================] - 5s 13ms/step - loss: 0.0340 - accuracy: 0.9893 - val_loss: 0.0434 - val_accuracy: 0.9879\n",
            "Epoch 4/10\n",
            "391/391 [==============================] - 5s 13ms/step - loss: 0.0234 - accuracy: 0.9926 - val_loss: 0.0431 - val_accuracy: 0.9885\n",
            "Epoch 5/10\n",
            "391/391 [==============================] - 5s 14ms/step - loss: 0.0154 - accuracy: 0.9951 - val_loss: 0.0524 - val_accuracy: 0.9854\n",
            "Epoch 6/10\n",
            "391/391 [==============================] - 5s 13ms/step - loss: 0.0114 - accuracy: 0.9962 - val_loss: 0.0518 - val_accuracy: 0.9866\n",
            "Epoch 7/10\n",
            "391/391 [==============================] - 5s 13ms/step - loss: 0.0100 - accuracy: 0.9967 - val_loss: 0.0431 - val_accuracy: 0.9894\n",
            "Epoch 8/10\n",
            "391/391 [==============================] - 5s 13ms/step - loss: 0.0084 - accuracy: 0.9970 - val_loss: 0.0516 - val_accuracy: 0.9884\n",
            "Epoch 9/10\n",
            "391/391 [==============================] - 5s 14ms/step - loss: 0.0052 - accuracy: 0.9983 - val_loss: 0.0599 - val_accuracy: 0.9876\n",
            "Epoch 10/10\n",
            "391/391 [==============================] - 5s 14ms/step - loss: 0.0053 - accuracy: 0.9981 - val_loss: 0.0553 - val_accuracy: 0.9880\n"
          ]
        }
      ]
    },
    {
      "cell_type": "code",
      "metadata": {
        "id": "bXI8uGHbz-8H",
        "colab": {
          "base_uri": "https://localhost:8080/",
          "height": 312
        },
        "outputId": "11efa318-44af-44e8-f359-8f3db8932995"
      },
      "source": [
        "# 8. Vẽ đồ thị loss, accuracy của traning set và validation set\n",
        "fig = plt.figure()\n",
        "numOfEpoch = 10\n",
        "plt.plot(np.arange(0, numOfEpoch), H.history['loss'], label='training loss')\n",
        "plt.plot(np.arange(0, numOfEpoch), H.history['val_loss'], label='validation loss')\n",
        "plt.plot(np.arange(0, numOfEpoch), H.history['accuracy'], label='accuracy')\n",
        "plt.plot(np.arange(0, numOfEpoch), H.history['val_accuracy'], label='validation accuracy')\n",
        "plt.title('Accuracy and Loss')\n",
        "plt.xlabel('Epoch')\n",
        "plt.ylabel('Loss|Accuracy')\n",
        "plt.legend()"
      ],
      "execution_count": null,
      "outputs": [
        {
          "output_type": "execute_result",
          "data": {
            "text/plain": [
              "<matplotlib.legend.Legend at 0x7f5ee3249990>"
            ]
          },
          "metadata": {},
          "execution_count": 21
        },
        {
          "output_type": "display_data",
          "data": {
            "image/png": "[encoded data removed]",
            "text/plain": [
              "<Figure size 432x288 with 1 Axes>"
            ]
          },
          "metadata": {
            "needs_background": "light"
          }
        }
      ]
    },
    {
      "cell_type": "code",
      "metadata": {
        "id": "OJ8adkM00DG3",
        "colab": {
          "base_uri": "https://localhost:8080/"
        },
        "outputId": "9e307ac9-0b03-4474-9088-41613567d07a"
      },
      "source": [
        "# 9. Đánh giá model với dữ liệu test set\n",
        "score = model.evaluate(X_test, Y_test, verbose=0)\n",
        "print(score)"
      ],
      "execution_count": null,
      "outputs": [
        {
          "output_type": "stream",
          "name": "stdout",
          "text": [
            "[0.04508180916309357, 0.9886999726295471]\n"
          ]
        }
      ]
    },
    {
      "cell_type": "code",
      "metadata": {
        "id": "QFq3OxW_0FIu",
        "colab": {
          "base_uri": "https://localhost:8080/",
          "height": 282
        },
        "outputId": "cafe4058-42a1-48f8-8118-16a88589ee0f"
      },
      "source": [
        "# 10. Dự đoán ảnh\n",
        "plt.imshow(X_test[0].reshape(28,28), cmap='gray')\n",
        "\n",
        "y_predict = model.predict(X_test[0].reshape(1,28,28,1))\n",
        "print('Giá trị dự đoán: ', np.argmax(y_predict))"
      ],
      "execution_count": null,
      "outputs": [
        {
          "output_type": "stream",
          "name": "stdout",
          "text": [
            "Giá trị dự đoán:  7\n"
          ]
        },
        {
          "output_type": "display_data",
          "data": {
            "image/png": "[encoded data removed]",
            "text/plain": [
              "<Figure size 432x288 with 1 Axes>"
            ]
          },
          "metadata": {
            "needs_background": "light"
          }
        }
      ]
    },
    {
      "cell_type": "markdown",
      "metadata": {
        "id": "tlRtrHIS0P1W"
      },
      "source": [
        "Chỉnh các hyperparameter: learning rate, activation function. và nhận xét các tham số của model như thế nào"
      ]
    },
    {
      "cell_type": "code",
      "metadata": {
        "id": "coY1MpZM0O7Y",
        "colab": {
          "base_uri": "https://localhost:8080/",
          "height": 485
        },
        "outputId": "e7cb8fd0-2663-4cad-a4e4-e433f040b8de"
      },
      "source": [
        "# Thử với các learning rate khác nhau (giữ nguyên các layer, node và activation function)\n",
        "learning_rate = [0.1, 0.005, 0.01, 0.00001, 0.2]\n",
        "colors = ['r', 'g', 'b', 'y', 'c']\n",
        "for i, lr in enumerate(learning_rate):\n",
        "\n",
        "  model = Sequential()\n",
        "\n",
        "  model.add(Conv2D(32, (3, 3), padding='same', activation='relu', input_shape=(28,28,1)))\n",
        "  model.add(Conv2D(32, (3, 3), activation='relu'))\n",
        "  model.add(MaxPooling2D())\n",
        "  model.add(Flatten())\n",
        "  model.add(Dense(128, activation='relu'))\n",
        "  model.add(Dense(10, activation='softmax'))\n",
        "\n",
        "  model.compile(loss='categorical_crossentropy',\n",
        "                optimizer=Adam(learning_rate=lr),\n",
        "                metrics=['accuracy'])\n",
        "  print('\\nLearning rate = %f' %(lr))\n",
        "  H = model.fit(X_train, Y_train,\n",
        "                batch_size=32,\n",
        "                epochs = epochs,\n",
        "                verbose=0,\n",
        "                validation_data=(X_val, Y_val))\n",
        "  plt.plot(H.history['loss'], colors[i])\n",
        "  \n",
        "plt.title('Loss with Different Learning rates')\n",
        "plt.legend(learning_rate)\n",
        "plt.tight_layout()\n",
        "plt.xlabel('Number of Epochs')\n",
        "plt.ylabel('Loss')\n",
        "plt.show()"
      ],
      "execution_count": null,
      "outputs": [
        {
          "output_type": "stream",
          "name": "stdout",
          "text": [
            "\n",
            "Learning rate = 0.100000\n",
            "\n",
            "Learning rate = 0.005000\n",
            "\n",
            "Learning rate = 0.010000\n",
            "\n",
            "Learning rate = 0.000010\n",
            "\n",
            "Learning rate = 0.200000\n"
          ]
        },
        {
          "output_type": "display_data",
          "data": {
            "image/png": "[encoded data removed]",
            "text/plain": [
              "<Figure size 432x288 with 1 Axes>"
            ]
          },
          "metadata": {
            "needs_background": "light"
          }
        }
      ]
    },
    {
      "cell_type": "code",
      "metadata": {
        "colab": {
          "base_uri": "https://localhost:8080/",
          "height": 485
        },
        "id": "A7KFDL568qRv",
        "outputId": "b61ddba2-788c-4608-99d9-a3bcaeb13053"
      },
      "source": [
        "# Đổi activation function thành sigmoid, tanh, softmax, linear\n",
        "activation_function = ['sigmoid', 'tanh', 'relu', 'softmax', 'linear']\n",
        "colors = ['r', 'g', 'b', 'y', 'c']\n",
        "for i, af in enumerate(activation_function):\n",
        "\n",
        "  model = Sequential()\n",
        "\n",
        "  model.add(Conv2D(32, (3, 3), padding='same', activation=af, input_shape=(28,28,1)))\n",
        "  model.add(Conv2D(32, (3, 3), activation=af))\n",
        "  model.add(MaxPooling2D())\n",
        "  model.add(Flatten())\n",
        "  model.add(Dense(128, activation=af))\n",
        "  model.add(Dense(10, activation='softmax'))\n",
        "\n",
        "  model.compile(loss='categorical_crossentropy',\n",
        "                optimizer=Adam(learning_rate=0.001),\n",
        "                metrics=['accuracy'])\n",
        "  print('\\nActivation function = %s' %(af))\n",
        "  H = model.fit(X_train, Y_train,\n",
        "                batch_size=32,\n",
        "                epochs = epochs,\n",
        "                verbose=0,\n",
        "                validation_data=(X_val, Y_val))\n",
        "  plt.plot(H.history['loss'], colors[i])\n",
        "  \n",
        "plt.title('Loss with Different Activation function')\n",
        "plt.legend(activation_function)\n",
        "plt.tight_layout()\n",
        "plt.xlabel('Number of Epochs')\n",
        "plt.ylabel('Loss')\n",
        "plt.show()"
      ],
      "execution_count": null,
      "outputs": [
        {
          "output_type": "stream",
          "name": "stdout",
          "text": [
            "\n",
            "Activation function = sigmoid\n",
            "\n",
            "Activation function = tanh\n",
            "\n",
            "Activation function = relu\n",
            "\n",
            "Activation function = softmax\n",
            "\n",
            "Activation function = linear\n"
          ]
        },
        {
          "output_type": "display_data",
          "data": {
            "image/png": "[encoded data removed]",
            "text/plain": [
              "<Figure size 432x288 with 1 Axes>"
            ]
          },
          "metadata": {
            "needs_background": "light"
          }
        }
      ]
    },
    {
      "cell_type": "markdown",
      "metadata": {
        "id": "9jZZBoyvnVZY"
      },
      "source": [
        "Nhận xét: qua các lần thay thay đổi learning rate và activation function cho thấy nếu learning rate quá cao sẽ ảnh hưởng tới cách học của model\n",
        "\n",
        "Các activation fucntion đều cho các loss tốt trừ hàm softmax, bởi vì hàm softmax đầu ra là phần trăm phân loại của các lớp. Hàm relu là tốt nhất vì từ ngay epoch đầu tiền đã cho hàm loss nhỏ nhất"
      ]
    },
    {
      "cell_type": "markdown",
      "metadata": {
        "id": "xScHT-xnu9Gc"
      },
      "source": [
        "# confusion_matrix"
      ]
    },
    {
      "cell_type": "code",
      "metadata": {
        "id": "wt-H1do5EmCQ"
      },
      "source": [
        "import seaborn as sns\n",
        "from sklearn.metrics import confusion_matrix"
      ],
      "execution_count": null,
      "outputs": []
    },
    {
      "cell_type": "code",
      "metadata": {
        "id": "MnXj39WpvfQF"
      },
      "source": [
        "y_pred = model.predict(X_test)\n",
        "y_pred = np.argmax(y_pred ,axis = 1)\n",
        "y_true=np.argmax(Y_test,axis = 1)"
      ],
      "execution_count": null,
      "outputs": []
    },
    {
      "cell_type": "code",
      "metadata": {
        "id": "q6qYR8Uew7Xy"
      },
      "source": [
        "cf = confusion_matrix(y_true,y_pred)"
      ],
      "execution_count": null,
      "outputs": []
    },
    {
      "cell_type": "code",
      "metadata": {
        "id": "Iu_55EKXxb65",
        "colab": {
          "base_uri": "https://localhost:8080/",
          "height": 426
        },
        "outputId": "ad3f020e-b9d5-4c99-c419-eb02b8247d5a"
      },
      "source": [
        "a = precision_recall_fscore_support(y_true, y_pred, average='macro')\n",
        "\n",
        "\n",
        "print(f'+ precision = {a[0]:.3f}')\n",
        "print(f'+ recall = {a[1]:.3f}')\n",
        "print(f'+ f1_score = {a[2]:.3f}')\n",
        "plt.figure(figsize = (8,6))\n",
        "ax = sns.heatmap(data=cf ,fmt=\"d\",annot = True)\n",
        "plt.show()\n",
        "\n"
      ],
      "execution_count": null,
      "outputs": [
        {
          "output_type": "stream",
          "name": "stdout",
          "text": [
            "+ precision = 0.989\n",
            "+ recall = 0.988\n",
            "+ f1_score = 0.989\n"
          ]
        },
        {
          "output_type": "display_data",
          "data": {
            "image/png": "[encoded data removed]",
            "text/plain": [
              "<Figure size 576x432 with 2 Axes>"
            ]
          },
          "metadata": {
            "needs_background": "light"
          }
        }
      ]
    },
    {
      "cell_type": "code",
      "metadata": {
        "id": "9g156P96xd5g"
      },
      "source": [
        ""
      ],
      "execution_count": null,
      "outputs": []
    }
  ]
}